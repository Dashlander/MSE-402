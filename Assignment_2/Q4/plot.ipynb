{
 "cells": [
  {
   "cell_type": "code",
   "execution_count": 5,
   "id": "47eb4a80-fd67-4103-a7ca-2e3cf1ee1fa1",
   "metadata": {},
   "outputs": [],
   "source": [
    "import numpy as np\n",
    "import matplotlib.pyplot as plt\n",
    "\n",
    "# Function to read binary data from a file and convert it to a numpy array\n",
    "def read_binary_file(filepath):\n",
    "    with open(filepath, 'r') as f:\n",
    "        lines = f.readlines()\n",
    "        data = [[int(x) for x in line.split()] for line in lines]\n",
    "        return np.array(data)\n",
    "\n",
    "# List of file paths\n",
    "file_paths = [\n",
    "    \"fort.11\",\n",
    "    \"fort.12\",\n",
    "    \"fort.13\",\n",
    "    \"fort.14\",\n",
    "    \"fort.15\",\n",
    "    \"fort.16\",\n",
    "    \"fort.17\",\n",
    "    \"fort.18\",\n",
    "    \"fort.19\",\n",
    "    \"fort.20\",\n",
    "    \"fort.21\",\n",
    "    \"fort.22\",\n",
    "    \"fort.23\",\n",
    "    \"fort.24\",\n",
    "    \"fort.25\",\n",
    "    \"fort.26\",\n",
    "    \"fort.27\",\n",
    "    \"fort.28\",\n",
    "    \"fort.29\",\n",
    "]\n",
    "\n",
    "# Loop through each file, plot, and save it as a PNG image\n",
    "for filepath in file_paths:\n",
    "    # Read binary data from file\n",
    "    data = read_binary_file(filepath)\n",
    "    \n",
    "    # Plot the data\n",
    "    plt.imshow(data, cmap='gray')  # Adjust cmap if necessary\n",
    "    plt.title(filepath)  # Set title as filename\n",
    "    plt.colorbar()  # Add color bar if needed\n",
    "    plt.savefig(filepath + '.png')  # Save the plot as a PNG image\n",
    "    plt.close()  # Close the plot to avoid memory issues\n"
   ]
  },
  {
   "cell_type": "code",
   "execution_count": null,
   "id": "cf7e1ab7-76f3-4b22-8ed9-ecbf92862510",
   "metadata": {},
   "outputs": [],
   "source": []
  }
 ],
 "metadata": {
  "kernelspec": {
   "display_name": "Python 3 (ipykernel)",
   "language": "python",
   "name": "python3"
  },
  "language_info": {
   "codemirror_mode": {
    "name": "ipython",
    "version": 3
   },
   "file_extension": ".py",
   "mimetype": "text/x-python",
   "name": "python",
   "nbconvert_exporter": "python",
   "pygments_lexer": "ipython3",
   "version": "3.9.13"
  }
 },
 "nbformat": 4,
 "nbformat_minor": 5
}
